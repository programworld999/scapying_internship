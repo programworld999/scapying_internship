{
 "cells": [
  {
   "cell_type": "code",
   "execution_count": 18,
   "metadata": {
    "scrolled": true
   },
   "outputs": [
    {
     "name": "stdout",
     "output_type": "stream",
     "text": [
      "['__builtins__', '__cached__', '__doc__', '__file__', '__loader__', '__name__', '__package__', '__spec__', '__version__']\n",
      "URL is ok!\n",
      "[]\n"
     ]
    }
   ],
   "source": [
    "import requests\n",
    "from bs4 import BeautifulSoup as BS\n",
    "import json\n",
    "import mysql.connector\n",
    "\n",
    "\n",
    "try:\n",
    "    page = requests.get(\"https://insider.in/mumbai\")\n",
    "    print(\"URL is ok!\")\n",
    "\n",
    "except:\n",
    "    print(\"Somting wrong in url\")\n",
    "\n",
    "soup = BS(page.text, 'html.parser')\n",
    "# print(soup.prettify())\n",
    "scraped_cards = soup.find_all(class_='featured-card ')\n",
    "\n",
    "print(scraped_cards)"
   ]
  }
 ],
 "metadata": {
  "kernelspec": {
   "display_name": "Python 3",
   "language": "python",
   "name": "python3"
  },
  "language_info": {
   "codemirror_mode": {
    "name": "ipython",
    "version": 3
   },
   "file_extension": ".py",
   "mimetype": "text/x-python",
   "name": "python",
   "nbconvert_exporter": "python",
   "pygments_lexer": "ipython3",
   "version": "3.6.8"
  }
 },
 "nbformat": 4,
 "nbformat_minor": 2
}
