{
 "cells": [
  {
   "cell_type": "code",
   "execution_count": 2,
   "metadata": {},
   "outputs": [
    {
     "name": "stdout",
     "output_type": "stream",
     "text": [
      "{'@type': 'Event', 'endDate': '2019-10-07T18:29:00.000Z', 'offers': {'lowPrice': 400, '@type': 'AggregateOffer', 'highPrice': 400, 'offerCount': 1, 'url': 'https://insider.in/jomoso-navratri-2019-sep25-oct7-2019/event', 'offers': [{'@type': 'Offer', 'availability': 'http://schema.org/InStock', 'availabilityEnds': '2019-10-07T14:00:00.000Z', 'priceCurrency': 'INR', 'name': 'Regular Ticket - 1 Day', 'validFrom': '2019-09-20T07:38:19.534Z', 'url': 'https://insider.in/jomoso-navratri-2019-sep25-oct7-2019/event', 'price': 400}]}, 'name': 'Jomoso Navratri 2019', 'image': 'https://media.insider.in/image/upload/c_crop,g_custom/v1566029276/a1uadkedabsmry23ebeo.jpg', 'eventStatus': 'EventScheduled', 'url': 'https://insider.in/jomoso-navratri-2019-sep25-oct7-2019/event', '@context': 'http://schema.org', 'location': {'geo': {'latitude': 23.0109591, '@type': 'GeoCoordinates', 'longitude': 72.5988472}, '@type': 'Place', 'address': 'EKA Arena, Kankaria Lake, Opp Gate No 3, Kankaria, Ahmedabad, Gujarat 380002', 'name': 'EKA Arena, Ahmedabad'}, 'performer': {'@type': 'Organization', 'name': 'Jomoso Pvt Ltd'}, 'startDate': '2019-10-07T14:00:00.000Z', 'description': \"<p>Ahmedabad's well renowned “<strong>Jomoso Group</strong>” is going to host&nbsp;<strong>JOMOSO NAVRATRI 2019</strong>. Navratri festival is one of the main traditional festival in Gujarat. The people from all over the world gathered to celebrate this festival with joy and excitement. Garba is the popular dance form originated in Gujarat. This dance form is often confused with Dandiya Raas, which is another dance form of Gujarat performed during Navratri.</p><p><br></p><p><strong>Artist Line-up:</strong></p><p><br></p><p>25th Sep – Satyen Vaghela</p><p>26th Sep – Nishaben Barot</p><p>27th Sep – Hetal Raval</p><p>28th Sep – Kinjal Dave</p><p>29th Sep – Sonu Charan</p><p>30th Sep – Ashita-Amip</p><p>1st Oct – Anupam Vyas</p><p>2nd Oct – Nirali Fozdar</p><p>3rd Oct – Jyoti Christian</p><p>4th Oct – Samir Raval</p><p>5th Oct – Dipali Nanavati</p><p>6th Oct – Priyanka Basu</p><p>7th Oct – Jasraj Shastri</p>\"}\n",
      "\n",
      "\n",
      "\n",
      "Jomoso Navratri 2019\n"
     ]
    }
   ],
   "source": [
    "import requests as rq\n",
    "from bs4 import BeautifulSoup as BS\n",
    "import json\n",
    "\n",
    "\n",
    "\n",
    "page = rq.get(\"https://insider.in/jomoso-navratri-2019-sep25-oct7-2019/event\")\n",
    "\n",
    "soup = BS(page.text, \"html.parser\")\n",
    "\n",
    "\n",
    "#data = soup.find_all(\"script\", {\"type\":\"application/ld+json\"})\n",
    "data = soup.find_all(type=\"application/ld+json\")\n",
    "\n",
    "\n",
    "data = data[2].text\n",
    "\n",
    "data = json.loads(data)\n",
    "\n",
    "print(data)\n",
    "\n",
    "print(\"\\n\\n\")\n",
    "\n",
    "\n",
    "\n",
    "\n",
    "\n",
    "\n",
    "\n",
    "\n",
    "\n",
    "print(data[\"name\"])\n",
    "\n"
   ]
  }
 ],
 "metadata": {
  "kernelspec": {
   "display_name": "Python 3",
   "language": "python",
   "name": "python3"
  },
  "language_info": {
   "codemirror_mode": {
    "name": "ipython",
    "version": 3
   },
   "file_extension": ".py",
   "mimetype": "text/x-python",
   "name": "python",
   "nbconvert_exporter": "python",
   "pygments_lexer": "ipython3",
   "version": "3.5.2"
  }
 },
 "nbformat": 4,
 "nbformat_minor": 2
}
