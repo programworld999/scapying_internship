{
 "cells": [
  {
   "cell_type": "code",
   "execution_count": 1,
   "metadata": {},
   "outputs": [],
   "source": [
    "import requests\n",
    "from bs4 import BeautifulSoup as BS\n",
    "import json\n",
    "import mysql.connector\n",
    "from art import *\n",
    "import re\n",
    "from tqdm import tqdm\n",
    "import time"
   ]
  },
  {
   "cell_type": "code",
   "execution_count": 2,
   "metadata": {},
   "outputs": [
    {
     "name": "stdout",
     "output_type": "stream",
     "text": [
      "URL is ok!\n"
     ]
    }
   ],
   "source": [
    "try:\n",
    "    page = requests.get(\"https://naadyogacouncil.com\")\n",
    "    print(\"URL is ok!\")\n",
    "\n",
    "except:\n",
    "    print(\"Somting wrong in url\")"
   ]
  },
  {
   "cell_type": "code",
   "execution_count": 3,
   "metadata": {},
   "outputs": [
    {
     "name": "stdout",
     "output_type": "stream",
     "text": [
      "7 ['https://naadyogacouncil.com/event/heartspace-sound-meditation-naad-yoga-2/', 'http://naadyogacouncil.com/event/naad-yoga-teacher-training-germany-veer-kaur/', 'https://naadyogacouncil.com/event/naad-yoga-teacher-training-germany-2/', 'https://naadyogacouncil.com/event/heartspace-sound-meditation-naad-yoga-3/', 'https://naadyogacouncil.com/event/heartspace-sound-meditation-naad-yoga-4/', 'http://naadyogacouncil.com/event/naad-yoga-teacher-training-uk-prof-surinder-singh/', 'http://naadyogacouncil.com/event/sound-therapist-course-with-yogi-of-sound-prof-surinder-singh-3/']\n"
     ]
    }
   ],
   "source": [
    "soup = BS(page.text, 'html.parser')\n",
    "\n",
    "interesting_urls = []\n",
    "non_interesting_urls = []\n",
    "\n",
    "a = soup.find_all('a')\n",
    "for i in range(len(a)):\n",
    "    urls = a[i].get(\"href\")\n",
    "    x = re.search(\"^https://naadyogacouncil.com/event/\", urls)\n",
    "    y = re.search(\"^http://naadyogacouncil.com/event/\", urls)\n",
    "    if(x or y):\n",
    "        interesting_urls.append(urls)\n",
    "        \n",
    "print(len(interesting_urls), interesting_urls)"
   ]
  },
  {
   "cell_type": "code",
   "execution_count": 4,
   "metadata": {},
   "outputs": [
    {
     "name": "stdout",
     "output_type": "stream",
     "text": [
      "31 ['https://naadyogacouncil.com', 'https://naadyogacouncil.com/', 'https://naadyogacouncil.com/about-us/', 'https://naadyogacouncil.com/about-us/', 'https://naadyogacouncil.com/our-aspirations/', 'https://naadyogacouncil.com/meet-our-team/', 'https://naadyogacouncil.com/what-is-naad-yoga/', 'http://naadyogacouncil.com/events/', 'https://naadyogacouncil.com/teacher-training/course-description/', 'https://naadyogacouncil.com/teacher-training/course-description/', 'https://naadyogacouncil.com/weekly-classes/', 'https://naadyogacouncil.com/healing-sound-course/', 'https://naadyogacouncil.com/sound-therapist-course/', 'https://naadyogacouncil.com/publications/', 'https://naadyogacouncil.com/european-centres/', 'https://naadyogacouncil.com/tree-project-grow-your-future-plant-a-tree/', 'https://naadyogacouncil.com/friends-supporters/', 'https://naadyogacouncil.com/articles/', 'https://naadyogacouncil.com/event/heartspace-sound-meditation-naad-yoga-2/', 'http://naadyogacouncil.com/event/naad-yoga-teacher-training-germany-veer-kaur/', 'https://naadyogacouncil.com/event/naad-yoga-teacher-training-germany-2/', 'https://naadyogacouncil.com/event/heartspace-sound-meditation-naad-yoga-3/', 'https://naadyogacouncil.com/event/heartspace-sound-meditation-naad-yoga-4/', 'http://naadyogacouncil.com/event/naad-yoga-teacher-training-uk-prof-surinder-singh/', 'http://naadyogacouncil.com/event/sound-therapist-course-with-yogi-of-sound-prof-surinder-singh-3/', 'https://www.facebook.com/pages/Naad-Yoga-Council/433027553438348', 'http://twitter.com/naadyogacouncil', 'http://instagram.com/naadyogacouncil', 'http://naadyogacouncil.com/subscribe-to-naad-yoga-times/', 'https://naadyogacouncil.com/european-centres/', 'https://naadyogacouncil.com/contact-the-naad-yoga-council/']\n"
     ]
    }
   ],
   "source": [
    "\n",
    "data = soup.find_all('a')\n",
    "for i in data:\n",
    "    url = i.get('href')\n",
    "    x = re.search(\"^http\", url)\n",
    "    if(x):\n",
    "        url = url\n",
    "    else:\n",
    "        url = \"https://naadyogacouncil.com\"+url\n",
    "    if(url != \"https://naadyogacouncil.com#\"):\n",
    "        non_interesting_urls.append(url)\n",
    "    \n",
    "print(len(non_interesting_urls), non_interesting_urls)"
   ]
  },
  {
   "cell_type": "code",
   "execution_count": 5,
   "metadata": {},
   "outputs": [
    {
     "name": "stdout",
     "output_type": "stream",
     "text": [
      "Database connection is OK!\n"
     ]
    }
   ],
   "source": [
    "def mysqlConnectionInit():\n",
    "    try:\n",
    "        db_connection = mysql.connector.connect(\n",
    "            host=\"localhost\",\n",
    "            user=\"root\",\n",
    "            passwd=\"1919\",\n",
    "            database=\"pythontwo\"\n",
    "        )\n",
    "        print(\"Database connection is OK!\")\n",
    "        return db_connection\n",
    "    except:\n",
    "        print(\"Somting wrong in database connection\")\n",
    "        \n",
    "mydb = mysqlConnectionInit()\n",
    "mycursor = mydb.cursor()\n"
   ]
  },
  {
   "cell_type": "code",
   "execution_count": 12,
   "metadata": {},
   "outputs": [],
   "source": [
    "def Interesting_url():\n",
    "    website = 'https://naadyogacouncil.com'\n",
    "    for url in interesting_urls:\n",
    "        sql = \"SELECT * FROM interesting_url WHERE url = %s AND website = %s\"\n",
    "        val = (url, website, )\n",
    "        mycursor.execute(sql, val)\n",
    "        myresult = mycursor.fetchall()\n",
    "        if(len(myresult) == 0):\n",
    "            # print('Insertable')\n",
    "            sql = \"INSERT INTO interesting_url (url, website, status) VALUES (%s, %s, %s)\"\n",
    "            val = (url, website, 0)\n",
    "            try:\n",
    "                mycursor.execute(sql, val)\n",
    "                mydb.commit()\n",
    "                print(\"Interesting urls inserted\")\n",
    "            except:\n",
    "                print('Somthing Worng ! Unable to Insert Intersting URLs')\n",
    "\n",
    "\n",
    "            \n",
    "\n",
    "Interesting_url()"
   ]
  },
  {
   "cell_type": "code",
   "execution_count": 13,
   "metadata": {},
   "outputs": [
    {
     "ename": "DatabaseError",
     "evalue": "1412 (HY000): Table definition has changed, please retry transaction",
     "output_type": "error",
     "traceback": [
      "\u001b[0;31m---------------------------------------------------------------------------\u001b[0m",
      "\u001b[0;31mDatabaseError\u001b[0m                             Traceback (most recent call last)",
      "\u001b[0;32m<ipython-input-13-10987cc58955>\u001b[0m in \u001b[0;36m<module>\u001b[0;34m\u001b[0m\n\u001b[1;32m     17\u001b[0m                 \u001b[0mprint\u001b[0m\u001b[0;34m(\u001b[0m\u001b[0;34m'Somthing Worng ! Unable to Insert Non-Intersting URLs'\u001b[0m\u001b[0;34m)\u001b[0m\u001b[0;34m\u001b[0m\u001b[0;34m\u001b[0m\u001b[0m\n\u001b[1;32m     18\u001b[0m \u001b[0;34m\u001b[0m\u001b[0m\n\u001b[0;32m---> 19\u001b[0;31m \u001b[0mNon_nteresting_url\u001b[0m\u001b[0;34m(\u001b[0m\u001b[0;34m)\u001b[0m\u001b[0;34m\u001b[0m\u001b[0;34m\u001b[0m\u001b[0m\n\u001b[0m",
      "\u001b[0;32m<ipython-input-13-10987cc58955>\u001b[0m in \u001b[0;36mNon_nteresting_url\u001b[0;34m()\u001b[0m\n\u001b[1;32m      5\u001b[0m         \u001b[0mval\u001b[0m \u001b[0;34m=\u001b[0m \u001b[0;34m(\u001b[0m\u001b[0murl\u001b[0m\u001b[0;34m,\u001b[0m \u001b[0mwebsite\u001b[0m\u001b[0;34m,\u001b[0m \u001b[0;34m)\u001b[0m\u001b[0;34m\u001b[0m\u001b[0;34m\u001b[0m\u001b[0m\n\u001b[1;32m      6\u001b[0m         \u001b[0mmycursor\u001b[0m\u001b[0;34m.\u001b[0m\u001b[0mexecute\u001b[0m\u001b[0;34m(\u001b[0m\u001b[0msql\u001b[0m\u001b[0;34m,\u001b[0m \u001b[0mval\u001b[0m\u001b[0;34m)\u001b[0m\u001b[0;34m\u001b[0m\u001b[0;34m\u001b[0m\u001b[0m\n\u001b[0;32m----> 7\u001b[0;31m         \u001b[0mmyresult\u001b[0m \u001b[0;34m=\u001b[0m \u001b[0mmycursor\u001b[0m\u001b[0;34m.\u001b[0m\u001b[0mfetchall\u001b[0m\u001b[0;34m(\u001b[0m\u001b[0;34m)\u001b[0m\u001b[0;34m\u001b[0m\u001b[0;34m\u001b[0m\u001b[0m\n\u001b[0m\u001b[1;32m      8\u001b[0m         \u001b[0;32mif\u001b[0m\u001b[0;34m(\u001b[0m\u001b[0mlen\u001b[0m\u001b[0;34m(\u001b[0m\u001b[0mmyresult\u001b[0m\u001b[0;34m)\u001b[0m \u001b[0;34m==\u001b[0m \u001b[0;36m0\u001b[0m\u001b[0;34m)\u001b[0m\u001b[0;34m:\u001b[0m\u001b[0;34m\u001b[0m\u001b[0;34m\u001b[0m\u001b[0m\n\u001b[1;32m      9\u001b[0m             \u001b[0;31m# print('Insertable')\u001b[0m\u001b[0;34m\u001b[0m\u001b[0;34m\u001b[0m\u001b[0;34m\u001b[0m\u001b[0m\n",
      "\u001b[0;32m/usr/local/lib/python3.6/dist-packages/mysql/connector/cursor.py\u001b[0m in \u001b[0;36mfetchall\u001b[0;34m(self)\u001b[0m\n\u001b[1;32m    880\u001b[0m         \u001b[0;32mif\u001b[0m \u001b[0;32mnot\u001b[0m \u001b[0mself\u001b[0m\u001b[0;34m.\u001b[0m\u001b[0m_have_unread_result\u001b[0m\u001b[0;34m(\u001b[0m\u001b[0;34m)\u001b[0m\u001b[0;34m:\u001b[0m\u001b[0;34m\u001b[0m\u001b[0;34m\u001b[0m\u001b[0m\n\u001b[1;32m    881\u001b[0m             \u001b[0;32mraise\u001b[0m \u001b[0merrors\u001b[0m\u001b[0;34m.\u001b[0m\u001b[0mInterfaceError\u001b[0m\u001b[0;34m(\u001b[0m\u001b[0;34m\"No result set to fetch from.\"\u001b[0m\u001b[0;34m)\u001b[0m\u001b[0;34m\u001b[0m\u001b[0;34m\u001b[0m\u001b[0m\n\u001b[0;32m--> 882\u001b[0;31m         \u001b[0;34m(\u001b[0m\u001b[0mrows\u001b[0m\u001b[0;34m,\u001b[0m \u001b[0meof\u001b[0m\u001b[0;34m)\u001b[0m \u001b[0;34m=\u001b[0m \u001b[0mself\u001b[0m\u001b[0;34m.\u001b[0m\u001b[0m_connection\u001b[0m\u001b[0;34m.\u001b[0m\u001b[0mget_rows\u001b[0m\u001b[0;34m(\u001b[0m\u001b[0;34m)\u001b[0m\u001b[0;34m\u001b[0m\u001b[0;34m\u001b[0m\u001b[0m\n\u001b[0m\u001b[1;32m    883\u001b[0m         \u001b[0;32mif\u001b[0m \u001b[0mself\u001b[0m\u001b[0;34m.\u001b[0m\u001b[0m_nextrow\u001b[0m\u001b[0;34m[\u001b[0m\u001b[0;36m0\u001b[0m\u001b[0;34m]\u001b[0m\u001b[0;34m:\u001b[0m\u001b[0;34m\u001b[0m\u001b[0;34m\u001b[0m\u001b[0m\n\u001b[1;32m    884\u001b[0m             \u001b[0mrows\u001b[0m\u001b[0;34m.\u001b[0m\u001b[0minsert\u001b[0m\u001b[0;34m(\u001b[0m\u001b[0;36m0\u001b[0m\u001b[0;34m,\u001b[0m \u001b[0mself\u001b[0m\u001b[0;34m.\u001b[0m\u001b[0m_nextrow\u001b[0m\u001b[0;34m[\u001b[0m\u001b[0;36m0\u001b[0m\u001b[0;34m]\u001b[0m\u001b[0;34m)\u001b[0m\u001b[0;34m\u001b[0m\u001b[0;34m\u001b[0m\u001b[0m\n",
      "\u001b[0;32m/usr/local/lib/python3.6/dist-packages/mysql/connector/connection.py\u001b[0m in \u001b[0;36mget_rows\u001b[0;34m(self, count, binary, columns)\u001b[0m\n\u001b[1;32m    444\u001b[0m         \u001b[0;32mexcept\u001b[0m \u001b[0merrors\u001b[0m\u001b[0;34m.\u001b[0m\u001b[0mError\u001b[0m \u001b[0;32mas\u001b[0m \u001b[0merr\u001b[0m\u001b[0;34m:\u001b[0m\u001b[0;34m\u001b[0m\u001b[0;34m\u001b[0m\u001b[0m\n\u001b[1;32m    445\u001b[0m             \u001b[0mself\u001b[0m\u001b[0;34m.\u001b[0m\u001b[0munread_result\u001b[0m \u001b[0;34m=\u001b[0m \u001b[0;32mFalse\u001b[0m\u001b[0;34m\u001b[0m\u001b[0;34m\u001b[0m\u001b[0m\n\u001b[0;32m--> 446\u001b[0;31m             \u001b[0;32mraise\u001b[0m \u001b[0merr\u001b[0m\u001b[0;34m\u001b[0m\u001b[0;34m\u001b[0m\u001b[0m\n\u001b[0m\u001b[1;32m    447\u001b[0m \u001b[0;34m\u001b[0m\u001b[0m\n\u001b[1;32m    448\u001b[0m         \u001b[0;32mif\u001b[0m \u001b[0mrows\u001b[0m\u001b[0;34m[\u001b[0m\u001b[0;34m-\u001b[0m\u001b[0;36m1\u001b[0m\u001b[0;34m]\u001b[0m \u001b[0;32mis\u001b[0m \u001b[0;32mnot\u001b[0m \u001b[0;32mNone\u001b[0m\u001b[0;34m:\u001b[0m\u001b[0;34m\u001b[0m\u001b[0;34m\u001b[0m\u001b[0m\n",
      "\u001b[0;32m/usr/local/lib/python3.6/dist-packages/mysql/connector/connection.py\u001b[0m in \u001b[0;36mget_rows\u001b[0;34m(self, count, binary, columns)\u001b[0m\n\u001b[1;32m    441\u001b[0m                     self._socket, columns, count)\n\u001b[1;32m    442\u001b[0m             \u001b[0;32melse\u001b[0m\u001b[0;34m:\u001b[0m\u001b[0;34m\u001b[0m\u001b[0;34m\u001b[0m\u001b[0m\n\u001b[0;32m--> 443\u001b[0;31m                 \u001b[0mrows\u001b[0m \u001b[0;34m=\u001b[0m \u001b[0mself\u001b[0m\u001b[0;34m.\u001b[0m\u001b[0m_protocol\u001b[0m\u001b[0;34m.\u001b[0m\u001b[0mread_text_result\u001b[0m\u001b[0;34m(\u001b[0m\u001b[0mself\u001b[0m\u001b[0;34m.\u001b[0m\u001b[0m_socket\u001b[0m\u001b[0;34m,\u001b[0m \u001b[0mself\u001b[0m\u001b[0;34m.\u001b[0m\u001b[0m_server_version\u001b[0m\u001b[0;34m,\u001b[0m \u001b[0mcount\u001b[0m\u001b[0;34m=\u001b[0m\u001b[0mcount\u001b[0m\u001b[0;34m)\u001b[0m\u001b[0;34m\u001b[0m\u001b[0;34m\u001b[0m\u001b[0m\n\u001b[0m\u001b[1;32m    444\u001b[0m         \u001b[0;32mexcept\u001b[0m \u001b[0merrors\u001b[0m\u001b[0;34m.\u001b[0m\u001b[0mError\u001b[0m \u001b[0;32mas\u001b[0m \u001b[0merr\u001b[0m\u001b[0;34m:\u001b[0m\u001b[0;34m\u001b[0m\u001b[0;34m\u001b[0m\u001b[0m\n\u001b[1;32m    445\u001b[0m             \u001b[0mself\u001b[0m\u001b[0;34m.\u001b[0m\u001b[0munread_result\u001b[0m \u001b[0;34m=\u001b[0m \u001b[0;32mFalse\u001b[0m\u001b[0;34m\u001b[0m\u001b[0;34m\u001b[0m\u001b[0m\n",
      "\u001b[0;32m/usr/local/lib/python3.6/dist-packages/mysql/connector/protocol.py\u001b[0m in \u001b[0;36mread_text_result\u001b[0;34m(self, sock, version, count)\u001b[0m\n\u001b[1;32m    345\u001b[0m                 \u001b[0mrows\u001b[0m\u001b[0;34m.\u001b[0m\u001b[0mappend\u001b[0m\u001b[0;34m(\u001b[0m\u001b[0mrowdata\u001b[0m\u001b[0;34m)\u001b[0m\u001b[0;34m\u001b[0m\u001b[0;34m\u001b[0m\u001b[0m\n\u001b[1;32m    346\u001b[0m             \u001b[0;32melif\u001b[0m \u001b[0meof\u001b[0m \u001b[0;32mis\u001b[0m \u001b[0;32mNone\u001b[0m \u001b[0;32mand\u001b[0m \u001b[0mrowdata\u001b[0m \u001b[0;32mis\u001b[0m \u001b[0;32mNone\u001b[0m\u001b[0;34m:\u001b[0m\u001b[0;34m\u001b[0m\u001b[0;34m\u001b[0m\u001b[0m\n\u001b[0;32m--> 347\u001b[0;31m                 \u001b[0;32mraise\u001b[0m \u001b[0mget_exception\u001b[0m\u001b[0;34m(\u001b[0m\u001b[0mpacket\u001b[0m\u001b[0;34m)\u001b[0m\u001b[0;34m\u001b[0m\u001b[0;34m\u001b[0m\u001b[0m\n\u001b[0m\u001b[1;32m    348\u001b[0m             \u001b[0mi\u001b[0m \u001b[0;34m+=\u001b[0m \u001b[0;36m1\u001b[0m\u001b[0;34m\u001b[0m\u001b[0;34m\u001b[0m\u001b[0m\n\u001b[1;32m    349\u001b[0m         \u001b[0;32mreturn\u001b[0m \u001b[0mrows\u001b[0m\u001b[0;34m,\u001b[0m \u001b[0meof\u001b[0m\u001b[0;34m\u001b[0m\u001b[0;34m\u001b[0m\u001b[0m\n",
      "\u001b[0;31mDatabaseError\u001b[0m: 1412 (HY000): Table definition has changed, please retry transaction"
     ]
    }
   ],
   "source": [
    "def Non_nteresting_url():\n",
    "    website = 'https://naadyogacouncil.com'\n",
    "    for url in non_interesting_urls:\n",
    "        sql = \"SELECT * FROM non_interesting_url WHERE url = %s AND website = %s\"\n",
    "        val = (url, website, )\n",
    "        mycursor.execute(sql, val)\n",
    "        myresult = mycursor.fetchall()\n",
    "        if(len(myresult) == 0):\n",
    "            # print('Insertable')\n",
    "            sql = \"INSERT INTO non_interesting_url (url, website) VALUES (%s, %s)\"\n",
    "            val = (url, website)\n",
    "            try:\n",
    "                mycursor.execute(sql, val)\n",
    "                mydb.commit()\n",
    "                print(\"Non Interesting urls inserted\")\n",
    "            except:\n",
    "                print('Somthing Worng ! Unable to Insert Non-Intersting URLs')\n",
    "\n",
    "Non_nteresting_url()"
   ]
  },
  {
   "cell_type": "code",
   "execution_count": 9,
   "metadata": {},
   "outputs": [
    {
     "name": "stderr",
     "output_type": "stream",
     "text": [
      "0it [00:00, ?it/s]\n",
      "0it [00:00, ?it/s]"
     ]
    },
    {
     "name": "stdout",
     "output_type": "stream",
     "text": [
      "Success!\n"
     ]
    },
    {
     "name": "stderr",
     "output_type": "stream",
     "text": [
      "\n"
     ]
    }
   ],
   "source": [
    "all_data = []\n",
    "non_structed_data_web = []\n",
    "\n",
    "def scarping_single_event():\n",
    "    website = 'https://naadyogacouncil.com'\n",
    "    sql = \"SELECT * FROM interesting_url WHERE status = %s and website = %s LIMIT 10\"\n",
    "    val = (0, website, )\n",
    "    mycursor.execute(sql, val)\n",
    "    myresult = mycursor.fetchall()\n",
    "    events_url = []\n",
    "    for event in myresult:\n",
    "        event_url = event[1]\n",
    "        events_url.append(event_url)\n",
    "#     print(events_url)\n",
    "    for i in tqdm(range(len(events_url))):\n",
    "        details = requests.get(events_url[i])\n",
    "        details_soup = BS(details.text, 'html.parser')\n",
    "        data = details_soup.find_all(\"script\", {'type': 'application/ld+json'})\n",
    "        data = data[1].text\n",
    "        data = json.loads(data)[0]\n",
    "#          #  print(data)\n",
    "        try:\n",
    "            organizer = data[\"organizer\"]['name']\n",
    "            title = data['name']\n",
    "            url = data['url']\n",
    "            address = data['location']['name']\n",
    "            price = \"£\"+data[\"offers\"][\"price\"]\n",
    "            image = data[\"image\"]\n",
    "            starting_date_time = data[\"startDate\"]\n",
    "            ending_date_time = data[\"endDate\"]\n",
    "        except:\n",
    "            organizer = \"N/A\"\n",
    "            title = \"N/A\"\n",
    "            url = \"N/A\"\n",
    "            address = \"N/A\"\n",
    "            price  = \"N/A\"\n",
    "            image = \"N/A\"\n",
    "            starting_date_time = \"N/A\"\n",
    "            ending_date_time = \"N/A\"\n",
    "        if(organizer == \"N/A\"):\n",
    "            non_structed_data_web.append(events_url[i])\n",
    "#         print(\"This event have no structed data\")\n",
    "#         print(all_events[i])\n",
    "        else:\n",
    "#             print(\"Success!\")\n",
    "            all_data.append({'organizer': organizer, 'title': title, 'url': url, 'address': address, 'price': price, 'image': image, 'starting_date_time': starting_date_time, 'ending_date_time': ending_date_time })\n",
    "\n",
    "    for i in tqdm(range(len(non_structed_data_web))):\n",
    "        details = requests.get(non_structed_data_web[i])\n",
    "        details_soup = BS(details.text, 'html.parser')\n",
    "        data = details_soup.find_all(\"script\", {'type': 'application/ld+json'})\n",
    "        data = data[1].text\n",
    "    #     print(data)\n",
    "        data = json.loads(data)\n",
    "        data = data[0]\n",
    "        try:\n",
    "            organizer = data[\"organizer\"]['name']\n",
    "            title = data['name']\n",
    "            url = data['url']\n",
    "            address = data['location']['name']\n",
    "            price = \"N/A\"\n",
    "            image = \"N/A\"\n",
    "            starting_date_time = data[\"startDate\"]\n",
    "            ending_date_time = data[\"endDate\"]\n",
    "        except:\n",
    "            organizer = \"N/A\"\n",
    "            title = \"N/A\"\n",
    "            url = \"N/A\"\n",
    "            address = \"N/A\"\n",
    "            price  = \"N/A\"\n",
    "            image = \"N/A\"\n",
    "            starting_date_time = \"N/A\"\n",
    "            ending_date_time = \"N/A\"\n",
    "        all_data.append({'organizer': organizer, 'title': title, 'url': url, 'address': address, 'price': price, 'image': image, 'starting_date_time': starting_date_time, 'ending_date_time': ending_date_time })\n",
    "\n",
    "\n",
    "        sql = \"UPDATE interesting_url SET status = %s WHERE url = %s\"\n",
    "        val = (1, events_url[i], )\n",
    "        mycursor.execute(sql, val)\n",
    "        mydb.commit()\n",
    "        \n",
    "    print(\"Success!\")\n",
    "\n",
    "    \n",
    "scarping_single_event()"
   ]
  },
  {
   "cell_type": "code",
   "execution_count": 8,
   "metadata": {},
   "outputs": [
    {
     "name": "stdout",
     "output_type": "stream",
     "text": [
      "N/A \n",
      "\n",
      "[]\n",
      "Storing Event Details Is Done. Congaratulations!\n"
     ]
    }
   ],
   "source": [
    "def insert_event_detail():\n",
    "    website = 'https://naadyogacouncil.com'\n",
    "    for event in all_data:\n",
    "        print(event['url'], '\\n')\n",
    "        url = event['url']\n",
    "        sql = \"SELECT * FROM naadyogacouncil_com WHERE url = %s\"\n",
    "        val = (url, )\n",
    "        mycursor.execute(sql, val)\n",
    "        myresult = mycursor.fetchall()\n",
    "        print(myresult)\n",
    "        if(len(myresult) == 0):\n",
    "            sql = \"INSERT INTO naadyogacouncil_com (title, organizer, url, address, price, starting_date_time, ending_date_time) VALUES (%s, %s, %s, %s, %s, %s, %s)\"\n",
    "            val = (event['title'], event['organizer'], event['url'], event['address'], event['price'], event['starting_date_time'], event['ending_date_time'])\n",
    "            try:\n",
    "                mycursor.execute(sql, val)\n",
    "                mydb.commit()\n",
    "                print(\"Storing Event Details Is Done. Congaratulations!\")\n",
    "            except:\n",
    "                print(\"Faild to insert data\")\n",
    "        else:\n",
    "            print('Already Stored')\n",
    "            \n",
    "            \n",
    "insert_event_detail()"
   ]
  }
 ],
 "metadata": {
  "kernelspec": {
   "display_name": "Python 3",
   "language": "python",
   "name": "python3"
  },
  "language_info": {
   "codemirror_mode": {
    "name": "ipython",
    "version": 3
   },
   "file_extension": ".py",
   "mimetype": "text/x-python",
   "name": "python",
   "nbconvert_exporter": "python",
   "pygments_lexer": "ipython3",
   "version": "3.6.8"
  }
 },
 "nbformat": 4,
 "nbformat_minor": 2
}
