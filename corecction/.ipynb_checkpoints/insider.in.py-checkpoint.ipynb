{
 "cells": [
  {
   "cell_type": "code",
   "execution_count": 34,
   "metadata": {},
   "outputs": [],
   "source": [
    "import requests\n",
    "from bs4 import BeautifulSoup as BS\n",
    "import json\n",
    "import mysql.connector\n",
    "from art import *\n",
    "import re\n",
    "from tqdm import tqdm\n",
    "import time"
   ]
  },
  {
   "cell_type": "code",
   "execution_count": 104,
   "metadata": {},
   "outputs": [
    {
     "name": "stdout",
     "output_type": "stream",
     "text": [
      "URL is ok!\n"
     ]
    }
   ],
   "source": [
    "try:\n",
    "    page = requests.get(\"https://insider.in/mumbai\")\n",
    "    print(\"URL is ok!\")\n",
    "except:\n",
    "    print(\"Somting wrong in url\")"
   ]
  },
  {
   "cell_type": "code",
   "execution_count": 105,
   "metadata": {},
   "outputs": [
    {
     "name": "stdout",
     "output_type": "stream",
     "text": [
      "14 ['https://insider.in/oneplus-music-festival-nov16-2019/event', 'https://insider.in/bacardi-nh7-weekender-pune-2019-112919/event', 'https://insider.in/supermoon-ft-prateek-kuhad-winter-tour-mumbai-dec18-2019/event', 'https://insider.in/international-curry-week-2019-mumbai-oct5-2019/event', 'https://insider.in/mumbai-oktoberfest-and-family-fun-carnival-oct11-13-2019/event', 'https://insider.in/salt-rock-food-festival-oct12-2019/event', 'https://insider.in/jodhpur-riff-oct10-2019/event', 'https://insider.in/mosambi-narangi-oct12-13-2019/event', 'https://insider.in/joke-lab-feb5-2019/event', 'https://insider.in/neon-east-fest-oct12-13-2019/event', 'https://insider.in/zero-latency-india-free-roam-vr-experience-2019/event', 'https://insider.in/umrao-jaan-ada-the-musical-mumbai-october-2019/event', 'https://insider.in/mahindra-open-drive-nov8-nov9-2019/event', 'https://insider.in/ranthambhore-music-and-wildlife-festival-dec-2019/event']\n"
     ]
    }
   ],
   "source": [
    "soup = BS(page.text, 'html.parser')\n",
    "scraped_cards = soup.find_all(class_=\"featured-card\")\n",
    "# print(scraped_cards)\n",
    "\n",
    "interesting_urls = []\n",
    "non_interesting_urls = []\n",
    "\n",
    "for i in range(len(scraped_cards)):\n",
    "    href = \"https://insider.in\"+scraped_cards[i].contents[0].get('href')\n",
    "    interesting_urls.append(href)\n",
    "    \n",
    "print(len(interesting_urls), interesting_urls)"
   ]
  },
  {
   "cell_type": "code",
   "execution_count": 106,
   "metadata": {},
   "outputs": [
    {
     "name": "stdout",
     "output_type": "stream",
     "text": [
      "191 ['http://insider.in/mumbai', 'http://insider.in/movies', 'http://insider.in/gameshows', 'http://insider.in/monuments', 'http://insider.in/all-events-in-mumbai', 'http://insider.in/all-amusement-parks-in-mumbai', 'http://insider.in/all-food-in-mumbai', 'http://insider.in/all-travel-in-mumbai', 'http://insider.in/all-workshops-in-mumbai', 'http://insider.in/all-activities-in-mumbai', 'http://insider.in/all-sports-in-mumbai', 'http://insider.in/all-theatre-in-mumbai', 'http://insider.in/artists', 'http://insider.in/venues-in-mumbai', 'http://beaninsider.homerun.co/', 'http://insider.in/users/me/favourites', 'http://insider.in/search', 'http://insider.in/users/login', 'https://insider.in/umrao-jaan-ada-the-musical-mumbai-october-2019/event', 'https://insider.in/supermoon-ft-prateek-kuhad-winter-tour-mumbai-dec18-2019/event', 'https://insider.in/oneplus-music-festival-nov16-2019/event', 'https://insider.in/maruti-suzuki-arena-mumbai-comic-con-dec-7-8-2019/event', 'https://insider.in/bacardi-nh7-weekender-pune-2019-112919/event', 'https://insider.in/international-curry-week-2019-mumbai-oct5-2019/event', 'https://insider.in/movies?utm_source=Homepagebanner_Insider&utm_medium=website', 'https://insider.in/movies?utm_source=Homepagebanner_Insider&utm_medium=website', 'https://insider.in/workshops-mumbai/article', 'https://insider.in/mahindra-open-drive', 'http://insider.in/search', 'http://insider.in/movies', 'http://insider.in/gameshows', 'http://insider.in/monuments', 'http://insider.in/all-events-in-mumbai', 'http://insider.in/all-amusement-parks-in-mumbai', 'http://insider.in/all-food-in-mumbai', 'http://insider.in/all-travel-in-mumbai', 'http://insider.in/all-workshops-in-mumbai', 'http://insider.in/all-activities-in-mumbai', 'http://insider.in/all-sports-in-mumbai', 'http://insider.in/all-theatre-in-mumbai', 'http://insider.in/oneplus-music-festival-nov16-2019/event', 'http://insider.in/bacardi-nh7-weekender-pune-2019-112919/event', 'http://insider.in/supermoon-ft-prateek-kuhad-winter-tour-mumbai-dec18-2019/event', 'http://insider.in/international-curry-week-2019-mumbai-oct5-2019/event', 'http://insider.in/mumbai-oktoberfest-and-family-fun-carnival-oct11-13-2019/event', 'http://insider.in/salt-rock-food-festival-oct12-2019/event', 'http://insider.in/jodhpur-riff-oct10-2019/event', 'http://insider.in/mosambi-narangi-oct12-13-2019/event', 'http://insider.in/joke-lab-feb5-2019/event', 'http://insider.in/neon-east-fest-oct12-13-2019/event', 'http://insider.in/zero-latency-india-free-roam-vr-experience-2019/event', 'http://insider.in/umrao-jaan-ada-the-musical-mumbai-october-2019/event', 'http://insider.in/mahindra-open-drive-nov8-nov9-2019/event', 'http://insider.in/ranthambhore-music-and-wildlife-festival-dec-2019/event', 'http://insider.in/comedy-in-mumbai', 'http://insider.in/art-in-mumbai', 'http://insider.in/trek-in-mumbai', 'http://insider.in/camping-in-mumbai', 'http://insider.in/music-in-mumbai', 'http://insider.in/open-mic-in-mumbai', 'http://insider.in/painting-in-mumbai', 'http://insider.in/tour-in-mumbai', 'http://insider.in/everything-in-mumbai-today', 'http://insider.in/everything-in-mumbai-tomorrow', 'http://insider.in/everything-in-mumbai-weekend', 'http://insider.in/bira-91-international-curry-week', 'http://insider.in/black-and-white-platter', 'http://insider.in/bacardi-nh7-weekender-2019', 'http://insider.in/isl-mumbai-city-fc', 'http://insider.in/hdfc-life-the-memory-project', 'http://insider.in/mahindra-open-drive', 'http://insider.in/supermoon-prateek-kuhad-winter-tour-2019', 'http://insider.in/aadyam-aditya-birla-theatre-initiative', 'http://insider.in/bacardi-nh7-weekender-meghalaya-camping-and-accommodation', 'http://insider.in/mumbai-indie', 'http://insider.in/mumbai-pop', 'http://insider.in/techno-music-mumbai', 'http://insider.in/workshops-mumbai', 'http://insider.in/travel-mumbai', 'http://insider.in/amusement-parks', 'http://insider.in/movies-on-insider-app', 'http://insider.in/free-events-mumbai', 'http://insider.in/sports-matches', 'http://insider.in/adlbas-imagica', 'http://insider.in/food-talk-india', 'https://itunes.apple.com/us/app/insider.in/id1179683119?ls=1&mt=8&utm_source=website&utm_medium=footer', 'https://play.google.com/store/apps/details?id=in.insider.consumer&utm_source=website&utm_medium=footer', 'http://insider.in/agra', 'http://insider.in/ahmedabad', 'http://insider.in/ambala', 'http://insider.in/amreli', 'http://insider.in/amritsar', 'http://insider.in/anand', 'http://insider.in/ankleshwar', 'http://insider.in/arunachal', 'http://insider.in/aurangabad', 'http://insider.in/bangalore', 'http://insider.in/bhavnagar', 'http://insider.in/bhopal', 'http://insider.in/bhubaneswar', 'http://insider.in/bhuj', 'http://insider.in/chandigarh', 'http://insider.in/chennai', 'http://insider.in/coimbatore', 'http://insider.in/coorg', 'http://insider.in/dehradun', 'http://insider.in/delhi', 'http://insider.in/dharamshala', 'http://insider.in/dholka', 'http://insider.in/faridabad', 'http://insider.in/gandhidham', 'http://insider.in/gandhinagar', 'http://insider.in/gangtok', 'http://insider.in/goa', 'http://insider.in/gurgaon', 'http://insider.in/guwahati', 'http://insider.in/hampi', 'http://insider.in/haridwar', 'http://insider.in/hosur', 'http://insider.in/hyderabad', 'http://insider.in/indore', 'http://insider.in/international', 'http://insider.in/jaipur', 'http://insider.in/jaisalmer', 'http://insider.in/jalandhar', 'http://insider.in/jammu', 'http://insider.in/jamnagar', 'http://insider.in/jamshedpur', 'http://insider.in/jetpur', 'http://insider.in/jodhpur', 'http://insider.in/junagadh', 'http://insider.in/kalol(panchmahal)', 'http://insider.in/kanpur', 'http://insider.in/kochi', 'http://insider.in/kohima', 'http://insider.in/kolkata', 'http://insider.in/kota', 'http://insider.in/lucknow', 'http://insider.in/ludhiana', 'http://insider.in/manali', 'http://insider.in/meerut', 'http://insider.in/mehsana', 'http://insider.in/mohali', 'http://insider.in/mumbai', 'http://insider.in/mussoorie', 'http://insider.in/mysuru', 'http://insider.in/nadiad', 'http://insider.in/nagpur', 'http://insider.in/nainital', 'http://insider.in/nashik', 'http://insider.in/navsari', 'http://insider.in/noida', 'http://insider.in/patna', 'http://insider.in/porbandar', 'http://insider.in/puducherry', 'http://insider.in/pune', 'http://insider.in/rajkot', 'http://insider.in/ranchi', 'http://insider.in/rishikesh', 'http://insider.in/secunderabad', 'http://insider.in/shillong', 'http://insider.in/shimla', 'http://insider.in/siliguri', 'http://insider.in/sonipat', 'http://insider.in/surat', 'http://insider.in/surendranagar', 'http://insider.in/thrissur', 'http://insider.in/udaipur', 'http://insider.in/vadodara', 'http://insider.in/valsad', 'http://insider.in/varanasi', 'http://insider.in/vijayawada', 'http://insider.in/vizag', 'http://insider.in/zirakpur', 'http://insider.in/', 'http://insider.in/about', 'https://medium.com/paytminsider', 'https://insidersupport.helpshift.com/a/insider/', 'http://insider.in/terms', 'http://insider.in/privacy', 'http://beaninsider.homerun.co/', 'http://insider.in/contact', 'https://www.facebook.com/paytminsider', 'https://twitter.com/paytminsider', 'https://instagram.com/insider.in/', 'http://oml.in', 'http://insider.in/contact#promoter-contact-form', 'https://medium.com/@paytminsider', 'https://blog.insider.in/insider-biz/', 'http://outdatedbrowser.com/en', 'http://insider.intel:9136622662']\n"
     ]
    }
   ],
   "source": [
    "\n",
    "data = soup.find_all('a')\n",
    "for i in data:\n",
    "    url = i.get('href')\n",
    "    x = re.search(\"^http\", url)\n",
    "    if(x):\n",
    "        url = url\n",
    "    else:\n",
    "        url = \"http://insider.in\"+url\n",
    "    if(url != \"http://insider.in#\"):\n",
    "        non_interesting_urls.append(url)\n",
    "    \n",
    "print(len(non_interesting_urls), non_interesting_urls)"
   ]
  },
  {
   "cell_type": "code",
   "execution_count": 107,
   "metadata": {},
   "outputs": [
    {
     "name": "stdout",
     "output_type": "stream",
     "text": [
      "Database connection is OK!\n"
     ]
    }
   ],
   "source": [
    "def mysqlConnectionInit():\n",
    "    try:\n",
    "        db_connection = mysql.connector.connect(\n",
    "            host=\"localhost\",\n",
    "            user=\"root\",\n",
    "            passwd=\"1919\",\n",
    "            database=\"pythontwo\"\n",
    "        )\n",
    "        print(\"Database connection is OK!\")\n",
    "        return db_connection\n",
    "    except:\n",
    "        print(\"Somting wrong in database connection\")\n",
    "        \n",
    "mydb = mysqlConnectionInit()\n",
    "mycursor = mydb.cursor()\n"
   ]
  },
  {
   "cell_type": "code",
   "execution_count": 108,
   "metadata": {
    "scrolled": false
   },
   "outputs": [
    {
     "name": "stdout",
     "output_type": "stream",
     "text": [
      "Interesting urls inserted\n",
      "Interesting urls inserted\n",
      "Interesting urls inserted\n",
      "Interesting urls inserted\n",
      "Interesting urls inserted\n",
      "Interesting urls inserted\n",
      "Interesting urls inserted\n",
      "Interesting urls inserted\n",
      "Interesting urls inserted\n",
      "Interesting urls inserted\n",
      "Interesting urls inserted\n",
      "Interesting urls inserted\n",
      "Interesting urls inserted\n",
      "Interesting urls inserted\n"
     ]
    }
   ],
   "source": [
    "def Interesting_url():\n",
    "    website = 'https://insider.in'\n",
    "    for url in interesting_urls:\n",
    "        sql = \"SELECT * FROM interesting_url WHERE url = %s AND website = %s\"\n",
    "        val = (url, website, )\n",
    "        mycursor.execute(sql, val)\n",
    "        myresult = mycursor.fetchall()\n",
    "        if(len(myresult) == 0):\n",
    "            # print('Insertable')\n",
    "            sql = \"INSERT INTO interesting_url (url, website, status) VALUES (%s, %s, %s)\"\n",
    "            val = (url, website, 0)\n",
    "            try:\n",
    "                mycursor.execute(sql, val)\n",
    "                mydb.commit()\n",
    "                print(\"Interesting urls inserted\")\n",
    "            except:\n",
    "                print('Somthing Worng ! Unable to Insert Intersting URLs')\n",
    "\n",
    "\n",
    "            \n",
    "\n",
    "Interesting_url()"
   ]
  },
  {
   "cell_type": "code",
   "execution_count": 109,
   "metadata": {},
   "outputs": [
    {
     "name": "stderr",
     "output_type": "stream",
     "text": [
      "100%|██████████| 10/10 [00:20<00:00,  2.05s/it]\n"
     ]
    }
   ],
   "source": [
    "all_data = []\n",
    "def scarping_single_event():\n",
    "    website = 'https://insider.in'\n",
    "    sql = \"SELECT * FROM interesting_url WHERE status = %s and website = %s LIMIT 10\"\n",
    "    val = (0, website, )\n",
    "    mycursor.execute(sql, val)\n",
    "    myresult = mycursor.fetchall()\n",
    "    events_url = []\n",
    "    for event in myresult:\n",
    "        event_url = event[1]\n",
    "        events_url.append(event_url)\n",
    "#     print(events_url)\n",
    "    for i in tqdm(range(len(events_url))):\n",
    "        details = requests.get(events_url[i])\n",
    "        details_soup = BS(details.text, 'html.parser')\n",
    "        data = details_soup.find_all(\"script\", {'type': 'application/ld+json'})\n",
    "        data = data[0].text\n",
    "        data = json.loads(data)\n",
    "         #  print(data)\n",
    "        try:\n",
    "            organizer = data[\"performer\"]['name']\n",
    "            title = data['name']\n",
    "            url = data['url']\n",
    "            address = data['location']['name']\n",
    "            price = data[\"offers\"][\"offers\"][0][\"price\"]\n",
    "            image = data[\"image\"]\n",
    "            starting_date_time = data[\"startDate\"]\n",
    "            ending_date_time = data[\"endDate\"]\n",
    "        except:\n",
    "            organizer = 'N/A'\n",
    "            title = 'N/A'\n",
    "            url = 'N/A'\n",
    "            address = 'N/A'\n",
    "            price = 'N/A'\n",
    "            image = 'N/A'\n",
    "            starting_date_time = 'N/A'\n",
    "            ending_date_time = 'N/A'\n",
    "            \n",
    "\n",
    "        all_data.append({'organizer': organizer, 'title': title, 'url': url, 'address': address, 'price': price, 'image': image, 'starting_date_time': starting_date_time, 'ending_date_time': ending_date_time })\n",
    "        sql = \"UPDATE interesting_url SET status = %s WHERE url = %s\"\n",
    "        val = (1, events_url[i], )\n",
    "        mycursor.execute(sql, val)\n",
    "        mydb.commit()\n",
    "        \n",
    "#         print(\"Success!\")\n",
    "\n",
    "    \n",
    "scarping_single_event()"
   ]
  },
  {
   "cell_type": "code",
   "execution_count": 119,
   "metadata": {
    "scrolled": false
   },
   "outputs": [],
   "source": [
    "def insert_event_detail():\n",
    "    website = 'https://insider.in'\n",
    "    for event in all_data:\n",
    "#         print(event['url'], '\\n')\n",
    "        url = event['url']\n",
    "        sql = \"SELECT * FROM insider_in WHERE url = %s\"\n",
    "        val = (url, )\n",
    "        mycursor.execute(sql, val)\n",
    "        myresult = mycursor.fetchall()\n",
    "        \n",
    "        if(len(myresult) == 0):\n",
    "            sql = \"INSERT INTO insider_in (title, organizer, url, address, price, starting_date_time, ending_date_time) VALUES (%s, %s, %s, %s, %s, %s, %s)\"\n",
    "            val = (event['title'], event['organizer'], event['url'], event['address'], event['price'], event['starting_date_time'], event['ending_date_time'])\n",
    "            try:\n",
    "                mycursor.execute(sql, val)\n",
    "                mydb.commit()\n",
    "                print(\"Storing Event Details Is Done. Congaratulations!\")\n",
    "            except:\n",
    "                print(\"Faild to insert data\")\n",
    "            \n",
    "            \n",
    "insert_event_detail()"
   ]
  }
 ],
 "metadata": {
  "kernelspec": {
   "display_name": "Python 3",
   "language": "python",
   "name": "python3"
  },
  "language_info": {
   "codemirror_mode": {
    "name": "ipython",
    "version": 3
   },
   "file_extension": ".py",
   "mimetype": "text/x-python",
   "name": "python",
   "nbconvert_exporter": "python",
   "pygments_lexer": "ipython3",
   "version": "3.6.8"
  }
 },
 "nbformat": 4,
 "nbformat_minor": 2
}
