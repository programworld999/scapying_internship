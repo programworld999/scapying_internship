{
 "cells": [
  {
   "cell_type": "code",
   "execution_count": 2,
   "metadata": {},
   "outputs": [
    {
     "name": "stdout",
     "output_type": "stream",
     "text": [
      "URL is ok!\n"
     ]
    }
   ],
   "source": [
    "import requests\n",
    "from bs4 import BeautifulSoup as BS\n",
    "import json\n",
    "\n",
    "try:\n",
    "    page = requests.get(\"https://insider.in/kolkata\")\n",
    "    print(\"URL is ok!\")\n",
    "\n",
    "except:\n",
    "    print(\"Somting wrong in url\")\n",
    "    \n",
    "soup = BS(page.text, 'html.parser')\n",
    "scraped_cards = soup.find_all(class_='featured-card ')\n",
    "# print(res[1])\n",
    "\n",
    "print((scraped_cards))"
   ]
  }
 ],
 "metadata": {
  "kernelspec": {
   "display_name": "Python 3",
   "language": "python",
   "name": "python3"
  },
  "language_info": {
   "codemirror_mode": {
    "name": "ipython",
    "version": 3
   },
   "file_extension": ".py",
   "mimetype": "text/x-python",
   "name": "python",
   "nbconvert_exporter": "python",
   "pygments_lexer": "ipython3",
   "version": "3.5.2"
  }
 },
 "nbformat": 4,
 "nbformat_minor": 2
}
