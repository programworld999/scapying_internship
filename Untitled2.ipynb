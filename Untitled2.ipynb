{
 "cells": [
  {
   "cell_type": "code",
   "execution_count": 14,
   "metadata": {},
   "outputs": [
    {
     "name": "stdout",
     "output_type": "stream",
     "text": [
      "              _   \r\n",
      "  __ _  _ __ | |_ \r\n",
      " / _` || '__|| __|\r\n",
      "| (_| || |   | |_ \r\n",
      " \\__,_||_|    \\__|\r\n",
      "                  \r\n",
      "\n"
     ]
    }
   ],
   "source": [
    "from art import *\n",
    "\n",
    "\n",
    "tprint(\"art\") # print ASCII text (default font) "
   ]
  },
  {
   "cell_type": "code",
   "execution_count": 15,
   "metadata": {},
   "outputs": [
    {
     "name": "stdout",
     "output_type": "stream",
     "text": [
      "\r\n",
      " .----------------.  .----------------.  .----------------.\r\n",
      "| .--------------. || .--------------. || .--------------. |\r\n",
      "| |      __      | || |  _______     | || |  _________   | |\r\n",
      "| |     /  \\     | || | |_   __ \\    | || | |  _   _  |  | |\r\n",
      "| |    / /\\ \\    | || |   | |__) |   | || | |_/ | | \\_|  | |\r\n",
      "| |   / ____ \\   | || |   |  __ /    | || |     | |      | |\r\n",
      "| | _/ /    \\ \\_ | || |  _| |  \\ \\_  | || |    _| |_     | |\r\n",
      "| ||____|  |____|| || | |____| |___| | || |   |_____|    | |\r\n",
      "| |              | || |              | || |              | |\r\n",
      "| '--------------' || '--------------' || '--------------' |\r\n",
      " '----------------'  '----------------'  '----------------'\r\n",
      "\n"
     ]
    }
   ],
   "source": [
    "tprint(\"art\",font=\"block\",chr_ignore=True)"
   ]
  }
 ],
 "metadata": {
  "kernelspec": {
   "display_name": "Python 3",
   "language": "python",
   "name": "python3"
  },
  "language_info": {
   "codemirror_mode": {
    "name": "ipython",
    "version": 3
   },
   "file_extension": ".py",
   "mimetype": "text/x-python",
   "name": "python",
   "nbconvert_exporter": "python",
   "pygments_lexer": "ipython3",
   "version": "3.6.8"
  }
 },
 "nbformat": 4,
 "nbformat_minor": 2
}
